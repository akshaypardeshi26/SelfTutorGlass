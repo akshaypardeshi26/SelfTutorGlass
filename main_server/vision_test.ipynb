{
 "cells": [
  {
   "cell_type": "code",
   "execution_count": 1,
   "metadata": {
    "collapsed": false
   },
   "outputs": [],
   "source": [
    "from vision import VisionApi"
   ]
  },
  {
   "cell_type": "code",
   "execution_count": 2,
   "metadata": {
    "collapsed": false
   },
   "outputs": [
    {
     "name": "stdout",
     "output_type": "stream",
     "text": [
      "../language_images/written_word_2_ball.jpg\n",
      "##############  ../language_images/written_word_2_ball.jpg\n",
      "0 Ball ball [1.0]\n",
      "[(695, 354), (1119, 372), (1111, 547), (687, 529)]\n",
      "[(695, 354), (1119, 372), (1111, 547), (687, 529), (695, 354)]\n",
      "<class 'PIL.JpegImagePlugin.JpegImageFile'> <class 'PIL.ImageDraw.ImageDraw'>\n"
     ]
    }
   ],
   "source": [
    "vision = VisionApi()\n",
    "image = '../language_images/written_word_2_ball.jpg'\n",
    "vision.detect_text_and_output_cropped_image(image, 'ball', 'correct_new1.jpg')\n",
    "#responses = vision.detect_text([image])\n",
    "#crop_and_highlight_texts(image, responses[image], image_text[image][0], 'correct.jpg')"
   ]
  },
  {
   "cell_type": "code",
   "execution_count": 6,
   "metadata": {
    "collapsed": false
   },
   "outputs": [
    {
     "name": "stdout",
     "output_type": "stream",
     "text": [
      "language_images/written_word_2_ball.jpg\n",
      "##############  language_images/written_word_2_ball.jpg\n",
      "0 Ball call [0.75]\n",
      "[(695, 354), (1119, 372), (1111, 547), (687, 529)]\n",
      "[(695, 354), (1119, 372), (1111, 547), (687, 529), (695, 354)]\n",
      "<class 'PIL.JpegImagePlugin.JpegImageFile'> <class 'PIL.ImageDraw.ImageDraw'>\n",
      "[[ 695  354]\n",
      " [1119  372]\n",
      " [1111  547]\n",
      " [ 687  529]]\n",
      "minArgIndex  [3 0]\n",
      "maxArgIndex  [1 2]\n",
      "top_left  [687 529]\n",
      "[1119  372]\n",
      "[695 354]\n",
      "[1111  547]\n"
     ]
    }
   ],
   "source": [
    "vision.detect_text_and_output_cropped_image(image, 'call', 'wrong_new.jpg')"
   ]
  },
  {
   "cell_type": "code",
   "execution_count": null,
   "metadata": {
    "collapsed": true
   },
   "outputs": [],
   "source": []
  }
 ],
 "metadata": {
  "kernelspec": {
   "display_name": "Python 3",
   "language": "python",
   "name": "python3"
  },
  "language_info": {
   "codemirror_mode": {
    "name": "ipython",
    "version": 3
   },
   "file_extension": ".py",
   "mimetype": "text/x-python",
   "name": "python",
   "nbconvert_exporter": "python",
   "pygments_lexer": "ipython3",
   "version": "3.5.1"
  }
 },
 "nbformat": 4,
 "nbformat_minor": 0
}
