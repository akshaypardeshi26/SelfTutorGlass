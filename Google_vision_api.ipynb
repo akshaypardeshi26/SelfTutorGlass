{
 "cells": [
  {
   "cell_type": "code",
   "execution_count": 1,
   "metadata": {
    "collapsed": false
   },
   "outputs": [
    {
     "name": "stdout",
     "output_type": "stream",
     "text": [
      "C:\\Users\\srbhc\\Documents\\GoogleDrive\\UCSD\\Fall 2016\\218\\Project\\SelfTutorGlass\n"
     ]
    }
   ],
   "source": [
    "!pwd"
   ]
  },
  {
   "cell_type": "code",
   "execution_count": 1,
   "metadata": {
    "collapsed": true
   },
   "outputs": [],
   "source": [
    "import argparse\n",
    "import base64\n",
    "import os\n",
    "import re\n",
    "import sys\n",
    "\n",
    "from googleapiclient import discovery\n",
    "from googleapiclient import errors\n",
    "from oauth2client.client import GoogleCredentials\n",
    "import redis\n",
    "\n",
    "DISCOVERY_URL = 'https://{api}.googleapis.com/$discovery/rest?version={apiVersion}'  # noqa\n",
    "os.environ['GOOGLE_APPLICATION_CREDENTIALS']='saurabh_google_api_credential.json'"
   ]
  },
  {
   "cell_type": "code",
   "execution_count": 2,
   "metadata": {
    "collapsed": true
   },
   "outputs": [],
   "source": [
    "class VisionApi:\n",
    "    \"\"\"Construct and use the Google Vision API service.\"\"\"\n",
    "\n",
    "    def __init__(self, api_discovery_file='vision_api.json'):\n",
    "        self.credentials = GoogleCredentials.get_application_default()\n",
    "        self.service = discovery.build(\n",
    "            'vision', 'v1', credentials=self.credentials,\n",
    "            discoveryServiceUrl=DISCOVERY_URL)\n",
    "\n",
    "    def detect_text(self, input_filenames, num_retries=3, max_results=6):\n",
    "        \"\"\"Uses the Vision API to detect text in the given file.\n",
    "        \"\"\"\n",
    "        images = {}\n",
    "        for filename in input_filenames:\n",
    "            with open(filename, 'rb') as image_file:\n",
    "                images[filename] = image_file.read()\n",
    "\n",
    "        batch_request = []\n",
    "        for filename in images:\n",
    "            batch_request.append({\n",
    "                'image': {\n",
    "                    'content': base64.b64encode(\n",
    "                            images[filename]).decode('UTF-8')\n",
    "                },\n",
    "                'features': [{\n",
    "                    'type': 'TEXT_DETECTION',\n",
    "                    'maxResults': max_results,\n",
    "                }]\n",
    "            })\n",
    "        request = self.service.images().annotate(\n",
    "            body={'requests': batch_request})\n",
    "\n",
    "        try:\n",
    "            responses = request.execute(num_retries=num_retries)\n",
    "            if 'responses' not in responses:\n",
    "                return {}\n",
    "            text_response = {}\n",
    "            for filename, response in zip(images, responses['responses']):\n",
    "                if 'error' in response:\n",
    "                    print(\"API Error for %s: %s\" % (\n",
    "                            filename,\n",
    "                            response['error']['message']\n",
    "                            if 'message' in response['error']\n",
    "                            else ''))\n",
    "                    continue\n",
    "                if 'textAnnotations' in response:\n",
    "                    text_response[filename] = response['textAnnotations']\n",
    "                else:\n",
    "                    text_response[filename] = []\n",
    "            return text_response\n",
    "        except errors.HttpError as e:\n",
    "            print(\"Http Error for %s: %s\" % (filename, e))\n",
    "        except KeyError as e2:\n",
    "            print(\"Key error: %s\" % e2)"
   ]
  },
  {
   "cell_type": "code",
   "execution_count": 3,
   "metadata": {
    "collapsed": false
   },
   "outputs": [
    {
     "name": "stdout",
     "output_type": "stream",
     "text": [
      "language_images/english_alphabets.jpg [{'description': 'ABCDEFG\\nHIJKLN\\nOPQRSTU\\nVWXYZ\\nM\\nDKR\\n', 'locale': 'da', 'boundingPoly': {'vertices': [{'y': 18, 'x': 19}, {'y': 18, 'x': 636}, {'y': 354, 'x': 636}, {'y': 354, 'x': 19}]}}, {'description': 'ABCDEFG', 'boundingPoly': {'vertices': [{'y': 19, 'x': 19}, {'y': 19, 'x': 633}, {'y': 51, 'x': 633}, {'y': 51, 'x': 19}]}}, {'description': 'HIJKLN', 'boundingPoly': {'vertices': [{'y': 119, 'x': 23}, {'y': 119, 'x': 633}, {'y': 151, 'x': 633}, {'y': 151, 'x': 23}]}}, {'description': 'OPQRSTU', 'boundingPoly': {'vertices': [{'y': 223, 'x': 22}, {'y': 223, 'x': 636}, {'y': 255, 'x': 636}, {'y': 255, 'x': 22}]}}, {'description': 'VWXYZ', 'boundingPoly': {'vertices': [{'y': 323, 'x': 19}, {'y': 323, 'x': 443}, {'y': 354, 'x': 443}, {'y': 354, 'x': 19}]}}, {'description': 'M', 'boundingPoly': {'vertices': [{'y': 121, 'x': 501}, {'y': 118, 'x': 542}, {'y': 153, 'x': 544}, {'y': 156, 'x': 503}]}}, {'description': 'DKR', 'boundingPoly': {'vertices': [{'y': 19, 'x': 312}, {'y': 18, 'x': 348}, {'y': 256, 'x': 354}, {'y': 257, 'x': 318}]}}]\n",
      "language_images/images.png [{'description': 'Ma\\n', 'locale': 'en', 'boundingPoly': {'vertices': [{'y': 5, 'x': 72}, {'y': 5, 'x': 204}, {'y': 211, 'x': 204}, {'y': 211, 'x': 72}]}}, {'description': 'Ma', 'boundingPoly': {'vertices': [{'y': 212, 'x': 81}, {'y': 11, 'x': 72}, {'y': 6, 'x': 195}, {'y': 207, 'x': 204}]}}]\n",
      "demo-image.jpg []\n"
     ]
    }
   ],
   "source": [
    "# Create a client object for the Vision API\n",
    "vision = VisionApi()\n",
    "\n",
    "fileslist = ['demo-image.jpg', 'language_images/images.png', 'language_images/english_alphabets.jpg']\n",
    "\n",
    "texts = vision.detect_text(fileslist)\n",
    "for k,v in texts.items():\n",
    "    print(k, v)"
   ]
  },
  {
   "cell_type": "code",
   "execution_count": null,
   "metadata": {
    "collapsed": true
   },
   "outputs": [],
   "source": []
  }
 ],
 "metadata": {
  "kernelspec": {
   "display_name": "Python 3",
   "language": "python",
   "name": "python3"
  },
  "language_info": {
   "codemirror_mode": {
    "name": "ipython",
    "version": 3
   },
   "file_extension": ".py",
   "mimetype": "text/x-python",
   "name": "python",
   "nbconvert_exporter": "python",
   "pygments_lexer": "ipython3",
   "version": "3.5.1"
  }
 },
 "nbformat": 4,
 "nbformat_minor": 0
}
